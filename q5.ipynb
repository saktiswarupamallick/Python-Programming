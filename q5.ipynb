{
  "nbformat": 4,
  "nbformat_minor": 0,
  "metadata": {
    "colab": {
      "provenance": [],
      "authorship_tag": "ABX9TyNPAmaHVduV15mHMQMF9unu",
      "include_colab_link": true
    },
    "kernelspec": {
      "name": "python3",
      "display_name": "Python 3"
    },
    "language_info": {
      "name": "python"
    }
  },
  "cells": [
    {
      "cell_type": "markdown",
      "metadata": {
        "id": "view-in-github",
        "colab_type": "text"
      },
      "source": [
        "<a href=\"https://colab.research.google.com/github/saktiswarupamallick/Python-Programming/blob/main/q5.ipynb\" target=\"_parent\"><img src=\"https://colab.research.google.com/assets/colab-badge.svg\" alt=\"Open In Colab\"/></a>"
      ]
    },
    {
      "cell_type": "code",
      "execution_count": 1,
      "metadata": {
        "colab": {
          "base_uri": "https://localhost:8080/"
        },
        "id": "-ChBav8orEf4",
        "outputId": "ee6911be-71a9-45c9-a6a2-7f9249dcc985"
      },
      "outputs": [
        {
          "output_type": "stream",
          "name": "stdout",
          "text": [
            "Enter a number to find its factorial: 5\n",
            "The factorial of 5 is: 120\n"
          ]
        }
      ],
      "source": [
        "def factorial(n):\n",
        "    if n == 0 or n == 1:\n",
        "        return 1\n",
        "    else:\n",
        "        return n * factorial(n - 1)\n",
        "\n",
        "def main():\n",
        "    # Taking user input for the number\n",
        "    num = int(input(\"Enter a number to find its factorial: \"))\n",
        "\n",
        "    # Check if the input is non-negative\n",
        "    if num < 0:\n",
        "        print(\"Factorial is not defined for negative numbers.\")\n",
        "    else:\n",
        "        result = factorial(num)\n",
        "        print(f\"The factorial of {num} is: {result}\")\n",
        "\n",
        "# Call the main function if the script is run directly\n",
        "if __name__ == \"__main__\":\n",
        "    main()\n"
      ]
    }
  ]
}