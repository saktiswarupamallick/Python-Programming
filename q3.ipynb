{
  "nbformat": 4,
  "nbformat_minor": 0,
  "metadata": {
    "colab": {
      "provenance": [],
      "authorship_tag": "ABX9TyOeWhathG/ky0R7Wy7biOHO",
      "include_colab_link": true
    },
    "kernelspec": {
      "name": "python3",
      "display_name": "Python 3"
    },
    "language_info": {
      "name": "python"
    }
  },
  "cells": [
    {
      "cell_type": "markdown",
      "metadata": {
        "id": "view-in-github",
        "colab_type": "text"
      },
      "source": [
        "<a href=\"https://colab.research.google.com/github/saktiswarupamallick/Python-Programming/blob/main/q3.ipynb\" target=\"_parent\"><img src=\"https://colab.research.google.com/assets/colab-badge.svg\" alt=\"Open In Colab\"/></a>"
      ]
    },
    {
      "cell_type": "code",
      "execution_count": 3,
      "metadata": {
        "colab": {
          "base_uri": "https://localhost:8080/"
        },
        "id": "67FUmuwJWQXM",
        "outputId": "ab26db5f-d7d8-48b5-a518-9178efff9a33"
      },
      "outputs": [
        {
          "output_type": "stream",
          "name": "stdout",
          "text": [
            "Enter number of terms:77\n",
            "total sum 3003\n"
          ]
        }
      ],
      "source": [
        "def summation(n):\n",
        "  total = 0\n",
        "  for  i in range(1, n+1):\n",
        "    total += i\n",
        "  return total\n",
        "\n",
        "def main():\n",
        "  n = int(input(\"Enter number of terms:\"))\n",
        "  total = summation(n)\n",
        "  print(\"total sum\",total)\n",
        "\n",
        "if __name__ =='__main__'  :\n",
        " main()"
      ]
    }
  ]
}