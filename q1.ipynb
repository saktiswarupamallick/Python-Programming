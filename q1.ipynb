{
  "nbformat": 4,
  "nbformat_minor": 0,
  "metadata": {
    "colab": {
      "provenance": [],
      "authorship_tag": "ABX9TyNyNBl0LfMiquWz0gSo6XtZ",
      "include_colab_link": true
    },
    "kernelspec": {
      "name": "python3",
      "display_name": "Python 3"
    },
    "language_info": {
      "name": "python"
    }
  },
  "cells": [
    {
      "cell_type": "markdown",
      "metadata": {
        "id": "view-in-github",
        "colab_type": "text"
      },
      "source": [
        "<a href=\"https://colab.research.google.com/github/saktiswarupamallick/Python-Programming/blob/main/q1.ipynb\" target=\"_parent\"><img src=\"https://colab.research.google.com/assets/colab-badge.svg\" alt=\"Open In Colab\"/></a>"
      ]
    },
    {
      "cell_type": "code",
      "execution_count": 5,
      "metadata": {
        "colab": {
          "base_uri": "https://localhost:8080/"
        },
        "id": "MTh0ygFxMHeK",
        "outputId": "76951331-7e12-4535-b96a-ac7f78e2db63"
      },
      "outputs": [
        {
          "output_type": "stream",
          "name": "stdout",
          "text": [
            "Area of the rectangle: 15\n"
          ]
        }
      ],
      "source": [
        "def compute_rectangle_area(length, breadth=1):\n",
        "    \"\"\"\n",
        "    Compute the area of a rectangle.\n",
        "\n",
        "    Parameters:\n",
        "    - length (int): Length of the rectangle.\n",
        "    - breadth (int, optional): Breadth of the rectangle (default is 1).\n",
        "\n",
        "    Returns:\n",
        "    - int: Area of the rectangle.\n",
        "    \"\"\"\n",
        "    area = length * breadth\n",
        "    return area\n",
        "\n",
        "# Example usage:\n",
        "length = 5\n",
        "breadth = 3  # Optional, default is 1 if not provided\n",
        "area = compute_rectangle_area(length, breadth)\n",
        "print(\"Area of the rectangle:\", area)"
      ]
    },
    {
      "cell_type": "code",
      "source": [],
      "metadata": {
        "id": "GEdr5vLBMK3r"
      },
      "execution_count": null,
      "outputs": []
    }
  ]
}