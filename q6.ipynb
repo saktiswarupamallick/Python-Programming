{
  "nbformat": 4,
  "nbformat_minor": 0,
  "metadata": {
    "colab": {
      "provenance": [],
      "authorship_tag": "ABX9TyOFpjStqdJWdnguFR6DKsY9",
      "include_colab_link": true
    },
    "kernelspec": {
      "name": "python3",
      "display_name": "Python 3"
    },
    "language_info": {
      "name": "python"
    }
  },
  "cells": [
    {
      "cell_type": "markdown",
      "metadata": {
        "id": "view-in-github",
        "colab_type": "text"
      },
      "source": [
        "<a href=\"https://colab.research.google.com/github/saktiswarupamallick/Python-Programming/blob/main/q6.ipynb\" target=\"_parent\"><img src=\"https://colab.research.google.com/assets/colab-badge.svg\" alt=\"Open In Colab\"/></a>"
      ]
    },
    {
      "cell_type": "code",
      "execution_count": null,
      "metadata": {
        "id": "pw4VLUk7vBxS"
      },
      "outputs": [],
      "source": [
        "def reverse_number(number):\n",
        "    reversed_num = 0\n",
        "\n",
        "    while number > 0:\n",
        "        # Extract the last digit of the number\n",
        "        digit = number % 10\n",
        "\n",
        "        # Update the reversed number by adding the digit\n",
        "        reversed_num = reversed_num * 10 + digit\n",
        "\n",
        "        # Remove the last digit from the original number\n",
        "        number = number // 10\n",
        "\n",
        "    return reversed_num\n",
        "\n",
        "def main():\n",
        "    # Taking user input for the number\n",
        "    num = int(input(\"Enter a number to find its reverse: \"))\n",
        "\n",
        "    # Calculate the reverse of the number\n",
        "    reversed_result = reverse_number(num)\n",
        "\n",
        "    print(f\"The reverse of {num} is: {reversed_result}\")\n",
        "\n",
        "# Call the main function if the script is run directly\n",
        "if __name__ == \"__main__\":\n",
        "    main()\n",
        "\n",
        ""
      ]
    }
  ]
}