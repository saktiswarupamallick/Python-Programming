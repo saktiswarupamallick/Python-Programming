{
  "nbformat": 4,
  "nbformat_minor": 0,
  "metadata": {
    "colab": {
      "provenance": [],
      "authorship_tag": "ABX9TyNN2qpddXn8kH37+f0N9UOw",
      "include_colab_link": true
    },
    "kernelspec": {
      "name": "python3",
      "display_name": "Python 3"
    },
    "language_info": {
      "name": "python"
    }
  },
  "cells": [
    {
      "cell_type": "markdown",
      "metadata": {
        "id": "view-in-github",
        "colab_type": "text"
      },
      "source": [
        "<a href=\"https://colab.research.google.com/github/saktiswarupamallick/Python-Programming/blob/main/q2.ipynb\" target=\"_parent\"><img src=\"https://colab.research.google.com/assets/colab-badge.svg\" alt=\"Open In Colab\"/></a>"
      ]
    },
    {
      "cell_type": "code",
      "execution_count": 4,
      "metadata": {
        "colab": {
          "base_uri": "https://localhost:8080/"
        },
        "id": "kxq-d4OIP8og",
        "outputId": "de25773b-60f1-4996-e0e5-0784599046d6"
      },
      "outputs": [
        {
          "output_type": "stream",
          "name": "stdout",
          "text": [
            "Enter marks:56\n",
            "Moderated marks: 56\n"
          ]
        }
      ],
      "source": [
        "def moderate(marks, passMarks):\n",
        "  if marks == passMarks-1 or marks == passMarks-2:\n",
        "    marks=passMarks\n",
        "  return marks\n",
        "\n",
        "def main():\n",
        " passMarks=40\n",
        " marks = input(\"Enter marks:\")\n",
        " intmarks = int(marks)\n",
        " moderatedMarks = moderate(intmarks,passMarks)\n",
        " print(\"Moderated marks:\",moderatedMarks)\n",
        "\n",
        "if __name__ == \"__main__\" :\n",
        " main()"
      ]
    }
  ]
}